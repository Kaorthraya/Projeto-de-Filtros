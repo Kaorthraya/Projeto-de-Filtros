{
  "nbformat": 4,
  "nbformat_minor": 0,
  "metadata": {
    "kernelspec": {
      "display_name": "PyCharm (filtros)",
      "language": "python",
      "name": "pycharm-628bb2"
    },
    "language_info": {
      "codemirror_mode": {
        "name": "ipython",
        "version": 3
      },
      "file_extension": ".py",
      "mimetype": "text/x-python",
      "name": "python",
      "nbconvert_exporter": "python",
      "pygments_lexer": "ipython3",
      "version": "3.5.6"
    },
    "pycharm": {
      "stem_cell": {
        "cell_type": "raw",
        "metadata": {
          "collapsed": false
        },
        "source": []
      }
    },
    "colab": {
      "name": "filtros.ipynb",
      "provenance": []
    }
  },
  "cells": [
    {
      "cell_type": "code",
      "metadata": {
        "id": "AM4N91vUuW-K",
        "colab_type": "code",
        "colab": {}
      },
      "source": [
        "from scipy.signal import TransferFunction\n",
        "import numpy as np\n",
        "from scipy import signal\n",
        "import matplotlib.pyplot as plt"
      ],
      "execution_count": 0,
      "outputs": []
    },
    {
      "cell_type": "code",
      "metadata": {
        "id": "Sm4exc5LuW-U",
        "colab_type": "code",
        "colab": {}
      },
      "source": [
        "def esc_filtro(esc):\n",
        "    if esc == \"1\":\n",
        "        print(\"Butterworth P-B\")\n",
        "        return(1)\n",
        "    else:\n",
        "        print(\"Tai doido carai? Tem nem esse número aí\")\n",
        "        return(-1)"
      ],
      "execution_count": 0,
      "outputs": []
    },
    {
      "cell_type": "code",
      "metadata": {
        "id": "1gwldBljuW-c",
        "colab_type": "code",
        "colab": {}
      },
      "source": [
        "def btwrth(a_p, a_s, w_p, w_s):\n",
        "    N = int(np.ceil(np.log10((np.power(((np.power(10.0, (-a_s/10.0))-1.0)/(np.power(10.0, (-a_p/10.0))-1.0)), 0.5)))/np.log10((w_s/w_p)))) #Ordem do filtro\n",
        "    S_k = np.zeros(N, dtype = complex) #incialização do vetor das raízes\n",
        "    denm = np.zeros(N+1, dtype=float) #inicialização do vetor do denominador após transformação de frequência\n",
        "    for i in range(1,N+1):\n",
        "        S_k[i-1] = -np.sin(np.pi*(2*i - 1)/(2*N)) + (1j*np.cos(np.pi*(2*i - 1)/(2*N))) #cálculo das raízes\n",
        "    wc = w_p/(np.power((np.power(10.0,((-1)*a_p/10.0)) - 1.0), (1.0/(2*2)))) #cálculo da frequência de corte\n",
        "    den = np.real(np.poly(S_k)) #denominador a partir das raízes\n",
        "    for i in range(0, N+1): #transformação de frequência\n",
        "      if(i == 0): \n",
        "        denm[i] = den[i] #para o termo de maior ordem\n",
        "      else: \n",
        "        denm[i] = (den[i]/den[-1])*(np.power(wc, i)) #para os termos de ordem N-1 até o termo independente\n",
        "    num = denm[-1] #numerador = último elemento do denominador\n",
        "    tf = TransferFunction(num,denm) #criação da função de transferência com transformação de frequência\n",
        "    #print(tf) #mostra a TF\n",
        "\n",
        "    w, amp, fase = tf.bode() #cria um elemento do gráfico de bode, retorna frequência; amplitude e fase\n",
        "    #plotagem\n",
        "    fig, ax = plt.subplots()\n",
        "    ax.semilogx(w, amp)\n",
        "    ax.set(xlabel = \"Frequência (rad/s)\", ylabel = \"Amplitude em dB\", title = \"Resposta em amplitude\")\n",
        "    ax.set_yticks(range(0,-40,-3))\n",
        "    ax.margins(x=0)\n",
        "    ax.margins(y=0.08)\n",
        "    ax.grid()\n",
        "    return [N, wc, tf, fig]\n",
        "    #fig.savefig(\"amplitude.png\", bbox_inches='tight')\n",
        "    #plt.show()"
      ],
      "execution_count": 0,
      "outputs": []
    },
    {
      "cell_type": "code",
      "metadata": {
        "pycharm": {
          "name": "#%%\n"
        },
        "id": "KxX9QwdcuW-i",
        "colab_type": "code",
        "colab": {}
      },
      "source": [
        "def filtros():\n",
        "    print(\"Escolhe o filtro maxo:\\n\")\n",
        "    print(\"1. Butterworth\")\n",
        "    resp = input(\"Digita o número do lado, abestaiado: \")\n",
        "    tipo = esc_filtro(resp)\n",
        "    if tipo == 1: #butterworth PB\n",
        "        print(\"Parâmetros de entrada do BUTTERWORTH - PB: Ap As Wp Ws\")\n",
        "        a_p, a_s, w_p, w_s = input(\"Digite os parâmetros separados por espaço simples, na ordem vista na linha anterior: \").split()\n",
        "        [N, wc, tf, ax] = btwrth(float(a_p), float(a_s), float(w_p), float(w_s))\n",
        "    return [N, wc, tf, ax]"
      ],
      "execution_count": 0,
      "outputs": []
    },
    {
      "cell_type": "code",
      "metadata": {
        "id": "NiB_45BJuW-m",
        "colab_type": "code",
        "outputId": "40c363c5-7d4c-4042-8fa6-f5abfd5611bf",
        "colab": {
          "base_uri": "https://localhost:8080/",
          "height": 429
        }
      },
      "source": [
        "ordem, wc, func, grafico = filtros()"
      ],
      "execution_count": 0,
      "outputs": [
        {
          "output_type": "stream",
          "text": [
            "Escolhe o filtro maxo:\n",
            "\n",
            "1. Butterworth\n",
            "Digita o número do lado, abestaiado: 1\n",
            "Butterworth P-B\n",
            "Parâmetros de entrada do BUTTERWORTH - PB: Ap As Wp Ws\n",
            "Digite os parâmetros separados por espaço simples, na ordem vista na linha anterior: -2 -20 1000 10000\n"
          ],
          "name": "stdout"
        },
        {
          "output_type": "display_data",
          "data": {
            "image/png": "[encoded data removed]",
            "text/plain": [
              "<Figure size 432x288 with 1 Axes>"
            ]
          },
          "metadata": {
            "tags": []
          }
        }
      ]
    },
    {
      "cell_type": "code",
      "metadata": {
        "id": "rwqvh-hnqTdz",
        "colab_type": "code",
        "colab": {}
      },
      "source": [
        ""
      ],
      "execution_count": 0,
      "outputs": []
    }
  ]
}